{
  "cells": [
    {
      "cell_type": "code",
      "metadata": {
        "collapsed": true,
        "ExecuteTime": {
          "end_time": "2025-09-07T15:13:29.629830Z",
          "start_time": "2025-09-07T15:13:29.581767Z"
        },
        "colab": {
          "base_uri": "https://localhost:8080/",
          "height": 35
        },
        "id": "qRulifo2Adl8",
        "outputId": "1c70dbf6-a0eb-4a2b-8a3f-935acc1bdbf9"
      },
      "source": [
        "import re\n",
        "\n",
        "filename = '../data/baby1990.html'\n",
        "foo = 'Esto es un ejemplo para guardar mis cambios en GitHub'\n",
        "\n",
        "foo"
      ],
      "outputs": [
        {
          "output_type": "execute_result",
          "data": {
            "text/plain": [
              "'Esto es un ejemplo para guardar mis cambios en GitHub'"
            ],
            "application/vnd.google.colaboratory.intrinsic+json": {
              "type": "string"
            }
          },
          "metadata": {},
          "execution_count": 43
        }
      ],
      "execution_count": 43
    },
    {
      "cell_type": "code",
      "source": [
        "import re\n",
        "from pathlib import Path"
      ],
      "metadata": {
        "id": "mDaUo5ZaBpTc"
      },
      "execution_count": 44,
      "outputs": []
    },
    {
      "cell_type": "markdown",
      "source": [
        "# Tarea 1: Encontrar el Año"
      ],
      "metadata": {
        "id": "hxmTA33zFo1D"
      }
    },
    {
      "cell_type": "code",
      "source": [
        "def extraer_anio(texto_html: str) -> str:\n",
        "\n",
        "    match = re.search(r'Popularity\\sin\\s(\\d{4})', texto_html)\n",
        "    if match:\n",
        "        return match.group(1)\n",
        "    return None"
      ],
      "metadata": {
        "id": "uoFZdeBECAuQ"
      },
      "execution_count": 45,
      "outputs": []
    },
    {
      "cell_type": "markdown",
      "source": [
        "    Extrae el año de la primera línea del archivo HTML.\n",
        "    Busca un patrón como: \"Popularity in 1990\".\n",
        "    Devuelve el año como string."
      ],
      "metadata": {
        "id": "EKFavtsnFw8D"
      }
    },
    {
      "cell_type": "markdown",
      "source": [
        "# Tarea 2: Extraer Nombres y Ranking"
      ],
      "metadata": {
        "id": "oVfvOikeF396"
      }
    },
    {
      "cell_type": "code",
      "source": [
        "def extraer_nombres_y_ranking(texto_html: str) -> list:\n",
        "\n",
        "    patron = re.findall(\n",
        "        r'<tr align=\"right\"><td>(\\d+)</td><td>(\\w+)</td><td>(\\w+)</td>',\n",
        "        texto_html\n",
        "    )\n",
        "\n",
        "    lista_tuplas = []\n",
        "    for ranking, nombre_m, nombre_f in patron:\n",
        "        lista_tuplas.append((nombre_m, ranking))\n",
        "        lista_tuplas.append((nombre_f, ranking))\n",
        "    return lista_tuplas"
      ],
      "metadata": {
        "id": "hF0u6jBMF9-3"
      },
      "execution_count": 46,
      "outputs": []
    },
    {
      "cell_type": "markdown",
      "source": [
        "    Extrae nombres y ranking del HTML.\n",
        "    Devuelve una lista de tuplas (nombre, ranking)."
      ],
      "metadata": {
        "id": "MvEujSDCGAmD"
      }
    },
    {
      "cell_type": "markdown",
      "source": [
        "# Tarea 3: Guardar en un Diccionario"
      ],
      "metadata": {
        "id": "KzXtA-XdGJUD"
      }
    },
    {
      "cell_type": "code",
      "source": [
        "def crear_diccionario(lista_tuplas: list) -> dict:\n",
        "\n",
        "    return {nombre: ranking for nombre, ranking in lista_tuplas}"
      ],
      "metadata": {
        "id": "LcT2uQP2GN4s"
      },
      "execution_count": 47,
      "outputs": []
    },
    {
      "cell_type": "markdown",
      "source": [
        "    Crea un diccionario a partir de la lista de tuplas (nombre, ranking).\n",
        "    La clave será el nombre y el valor será el ranking.\n"
      ],
      "metadata": {
        "id": "ZJFtRPeeGQif"
      }
    },
    {
      "cell_type": "markdown",
      "source": [
        "# Tarea 4: Lista de Nombres Ordenada"
      ],
      "metadata": {
        "id": "Stc5YOGDGUSM"
      }
    },
    {
      "cell_type": "code",
      "source": [
        "def nombres_ordenados(diccionario: dict) -> list:\n",
        "     return sorted(diccionario.keys())\n"
      ],
      "metadata": {
        "id": "xuAMJzHGGWaH"
      },
      "execution_count": 48,
      "outputs": []
    },
    {
      "cell_type": "markdown",
      "source": [
        "    Recibe un diccionario de nombres y rankings.\n",
        "    Devuelve una lista con los nombres ordenados alfabéticamente.\n"
      ],
      "metadata": {
        "id": "yiCQ1XH-GZj_"
      }
    },
    {
      "cell_type": "markdown",
      "source": [
        "# Tarea 5: Formatear la Salida Final"
      ],
      "metadata": {
        "id": "QkKwJQAuGdir"
      }
    },
    {
      "cell_type": "code",
      "source": [
        "def salida_final(texto_html: str) -> list:\n",
        "    anio = extraer_anio(texto_html)\n",
        "    lista_tuplas = extraer_nombres_y_ranking(texto_html)\n",
        "    diccionario = crear_diccionario(lista_tuplas)\n",
        "    lista_nombres = nombres_ordenados(diccionario)\n",
        "    resultado = [anio]\n",
        "    for nombre in lista_nombres:\n",
        "        resultado.append(f\"{nombre} - {diccionario[nombre]}\")\n",
        "    return resultado"
      ],
      "metadata": {
        "id": "a73xGF-fGfZz"
      },
      "execution_count": 49,
      "outputs": []
    },
    {
      "cell_type": "markdown",
      "source": [
        "    1. Obtiene el año.\n",
        "    2. Extrae los nombres y rankings.\n",
        "    3. Genera un diccionario.\n",
        "    4. Ordena los nombres.\n",
        "    5. Devuelve la lista final en el formato"
      ],
      "metadata": {
        "id": "o2jsWqS2GkV_"
      }
    },
    {
      "cell_type": "code",
      "source": [
        "if __name__ == \"__main__\":\n",
        "    # Abrir el archivo HTML\n",
        "    with open('../data/baby1990.html', \"r\", encoding=\"utf-8\") as f:\n",
        "        texto_html = f.read()\n",
        "\n",
        "    # Ejecutar el programa completo\n",
        "    resultado = salida_final(texto_html)\n",
        "\n",
        "    # Mostrar los primeros 20 resultados para comprobar\n",
        "    for item in resultado[:20]:\n",
        "        print(item)"
      ],
      "metadata": {
        "colab": {
          "base_uri": "https://localhost:8080/",
          "height": 211
        },
        "id": "HzyqnYGBGs2A",
        "outputId": "9905e4fe-2706-487e-c092-9e256324bdf3"
      },
      "execution_count": 53,
      "outputs": [
        {
          "output_type": "error",
          "ename": "FileNotFoundError",
          "evalue": "[Errno 2] No such file or directory: '../data/baby1990.html'",
          "traceback": [
            "\u001b[0;31m---------------------------------------------------------------------------\u001b[0m",
            "\u001b[0;31mFileNotFoundError\u001b[0m                         Traceback (most recent call last)",
            "\u001b[0;32m/tmp/ipython-input-3542431935.py\u001b[0m in \u001b[0;36m<cell line: 0>\u001b[0;34m()\u001b[0m\n\u001b[1;32m      1\u001b[0m \u001b[0;32mif\u001b[0m \u001b[0m__name__\u001b[0m \u001b[0;34m==\u001b[0m \u001b[0;34m\"__main__\"\u001b[0m\u001b[0;34m:\u001b[0m\u001b[0;34m\u001b[0m\u001b[0;34m\u001b[0m\u001b[0m\n\u001b[1;32m      2\u001b[0m     \u001b[0;31m# Abrir el archivo HTML\u001b[0m\u001b[0;34m\u001b[0m\u001b[0;34m\u001b[0m\u001b[0m\n\u001b[0;32m----> 3\u001b[0;31m     \u001b[0;32mwith\u001b[0m \u001b[0mopen\u001b[0m\u001b[0;34m(\u001b[0m\u001b[0;34m'../data/baby1990.html'\u001b[0m\u001b[0;34m,\u001b[0m \u001b[0;34m\"r\"\u001b[0m\u001b[0;34m,\u001b[0m \u001b[0mencoding\u001b[0m\u001b[0;34m=\u001b[0m\u001b[0;34m\"utf-8\"\u001b[0m\u001b[0;34m)\u001b[0m \u001b[0;32mas\u001b[0m \u001b[0mf\u001b[0m\u001b[0;34m:\u001b[0m\u001b[0;34m\u001b[0m\u001b[0;34m\u001b[0m\u001b[0m\n\u001b[0m\u001b[1;32m      4\u001b[0m         \u001b[0mtexto_html\u001b[0m \u001b[0;34m=\u001b[0m \u001b[0mf\u001b[0m\u001b[0;34m.\u001b[0m\u001b[0mread\u001b[0m\u001b[0;34m(\u001b[0m\u001b[0;34m)\u001b[0m\u001b[0;34m\u001b[0m\u001b[0;34m\u001b[0m\u001b[0m\n\u001b[1;32m      5\u001b[0m \u001b[0;34m\u001b[0m\u001b[0m\n",
            "\u001b[0;31mFileNotFoundError\u001b[0m: [Errno 2] No such file or directory: '../data/baby1990.html'"
          ]
        }
      ]
    }
  ],
  "metadata": {
    "kernelspec": {
      "display_name": "Python 3",
      "language": "python",
      "name": "python3"
    },
    "language_info": {
      "codemirror_mode": {
        "name": "ipython",
        "version": 2
      },
      "file_extension": ".py",
      "mimetype": "text/x-python",
      "name": "python",
      "nbconvert_exporter": "python",
      "pygments_lexer": "ipython2",
      "version": "2.7.6"
    },
    "colab": {
      "provenance": []
    }
  },
  "nbformat": 4,
  "nbformat_minor": 0
}